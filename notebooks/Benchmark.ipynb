{
 "cells": [
  {
   "cell_type": "code",
   "execution_count": null,
   "id": "51674d83-98d6-477d-b0dd-be9190902634",
   "metadata": {},
   "outputs": [],
   "source": [
    "import sys\n",
    "import numpy as np\n",
    "import pandas as pd\n",
    "from sklearn.ensemble import RandomForestClassifier\n",
    "from sklearn.metrics import confusion_matrix\n",
    "from raiutils.exceptions import UserConfigValidationException"
   ]
  },
  {
   "cell_type": "code",
   "execution_count": null,
   "id": "48e8918f-67c4-4085-acb2-0e35a43013d7",
   "metadata": {},
   "outputs": [],
   "source": [
    "preprocessor_dir = 'modules'\n",
    "sys.path.append(preprocessor_dir)"
   ]
  },
  {
   "cell_type": "code",
   "execution_count": null,
   "id": "3c5624d3-5b34-407d-a68e-a8370ef4c4d3",
   "metadata": {},
   "outputs": [],
   "source": [
    "from counterfactual_explainers.apply_dice import apply_dice"
   ]
  },
  {
   "cell_type": "code",
   "execution_count": null,
   "id": "4394fad9-ccf6-49e7-b668-99511786d2a1",
   "metadata": {},
   "outputs": [],
   "source": [
    "preprocessor_dir = 'modules/preprocessors'\n",
    "sys.path.append(preprocessor_dir)"
   ]
  },
  {
   "cell_type": "code",
   "execution_count": null,
   "id": "0aaeb5a1-95ca-4bc1-b820-985f52046300",
   "metadata": {},
   "outputs": [],
   "source": [
    "seed = 420000\n",
    "np.random.seed(seed)"
   ]
  },
  {
   "cell_type": "code",
   "execution_count": null,
   "id": "6d3d98cd-8aef-4d74-988b-a69eaddfd2e0",
   "metadata": {},
   "outputs": [],
   "source": [
    "def evaluate_counterfactual(ce: pd.DataFrame, reference: pd.DataFrame, labeler, decisive_columns,\n",
    "                            criteria='both') -> bool:\n",
    "    \"\"\"\n",
    "    method to evaluate a counterfactual explanation if the decision-making mechanism is known\n",
    "\n",
    "    :param ce: counterfactual instance\n",
    "    :param reference: original instance\n",
    "    :param labeler: function to obtain the ground truth of the counterfactual instance\n",
    "    :param decisive_columns: decisive columns for the ground truth decision\n",
    "    :param criteria: 'both' criteria or criteria 'one' or 'two'\n",
    "    :return: boolean if counterfactual explanation is true\n",
    "    \"\"\"\n",
    "\n",
    "    # evaluate counterfactual explanations -- two criteria:\n",
    "    # 1) if I would label this instance, would be belong to the desired class?\n",
    "    criteria_1 = False\n",
    "    if int(labeler(ce.drop(target, axis=1), seed)[0]) == int(ce.loc[0, target]):\n",
    "        criteria_1 = True\n",
    "\n",
    "    # 2) are only the correct columns modified?\n",
    "    diff = np.asarray(ce) - np.asarray(reference)\n",
    "    diff_dict = {}\n",
    "    for c, col in enumerate(list(ce.columns)):\n",
    "        diff_dict[col] = diff[:, c]\n",
    "    diff_df = pd.DataFrame.from_dict(diff_dict).drop(target, axis=1)\n",
    "\n",
    "    criteria_2 = [False] * len(list(diff_df.columns))\n",
    "    for c, col in enumerate(list(diff_df.columns)):\n",
    "        if (diff_df.loc[0, col] != 0 and col in decisive_columns) or diff_df.loc[0, col] == 0:\n",
    "            criteria_2[c] = True\n",
    "    criteria_2 = all(criteria_2)\n",
    "\n",
    "    if criteria == 'one':\n",
    "        return criteria_1\n",
    "    elif criteria == 'two':\n",
    "        return criteria_2\n",
    "    elif criteria == 'both':\n",
    "        return criteria_1 and criteria_2\n",
    "    else:\n",
    "        raise ValueError('unknown criteria value')\n"
   ]
  },
  {
   "cell_type": "markdown",
   "id": "97082795-51af-4bc2-adc1-e414e63a910d",
   "metadata": {},
   "source": [
    "### German Credit Risk"
   ]
  },
  {
   "cell_type": "code",
   "execution_count": null,
   "id": "fea18edf-2295-41ae-bb60-f99990d286be",
   "metadata": {},
   "outputs": [],
   "source": [
    "from preprocess_german_credit_data import preprocess_german_credit_data\n",
    "from preprocess_german_credit_data import german_credit_label_modifier"
   ]
  },
  {
   "cell_type": "code",
   "execution_count": null,
   "id": "b9f6006b-a4df-4aaf-b7b7-effc92494acf",
   "metadata": {},
   "outputs": [],
   "source": [
    "german_credit_dir = 'data/german_credit_data.csv'"
   ]
  },
  {
   "cell_type": "code",
   "execution_count": null,
   "id": "98b61e58-e2b6-4206-9bb2-7dbde3259ead",
   "metadata": {},
   "outputs": [],
   "source": [
    "target = 'risk'\n",
    "decisive_columns = ['housing', 'job', 'age', 'savingaccounts', 'checkingaccount']"
   ]
  },
  {
   "cell_type": "code",
   "execution_count": null,
   "id": "3ceb9447-ecd8-4df6-88e4-1abc094670bb",
   "metadata": {},
   "outputs": [],
   "source": [
    "df_train, df_test, label_transformers, metric_transformers = preprocess_german_credit_data(german_credit_dir, 0.3, True, seed)\n",
    "df_train.head()"
   ]
  },
  {
   "cell_type": "code",
   "execution_count": null,
   "id": "1d2ab9e6-b15e-45f4-9482-38d8a8cd3713",
   "metadata": {},
   "outputs": [],
   "source": [
    "rf = RandomForestClassifier(class_weight='balanced', random_state=seed)\n",
    "rf.fit(np.asarray(df_train.drop(columns=[target])), np.asarray(df_train[target]))"
   ]
  },
  {
   "cell_type": "code",
   "execution_count": null,
   "id": "9c26652f-2160-4bb9-a560-3013403eae4c",
   "metadata": {},
   "outputs": [],
   "source": [
    "y_pred = rf.predict(df_test.drop(target, axis=1))\n",
    "tn, fp, fn, tp = confusion_matrix(np.asarray(df_test[target]), y_pred).ravel()\n",
    "fp_rate = fp / (fp + tn)\n",
    "fn_rate = fn / (fn + tp)\n",
    "precision = tp / (tp + fp)\n",
    "recall = tp / (tp + fn)\n",
    "accuracy = (tp + tn) / len(y_pred)\n",
    "\n",
    "print('fp rate:', fp_rate)\n",
    "print('fn rate:', fn_rate)\n",
    "print('precision:', precision)\n",
    "print('recall:', recall)\n",
    "print('accuracy:', accuracy)"
   ]
  },
  {
   "cell_type": "code",
   "execution_count": null,
   "id": "3243bf35-7fa9-453b-aeb5-67ee8abd3223",
   "metadata": {},
   "outputs": [],
   "source": [
    "%%capture\n",
    "\n",
    "df_eval_ces = df_test.copy()\n",
    "\n",
    "df_eval_ces['preds'] = y_pred\n",
    "df_eval_ces = df_eval_ces[df_eval_ces[target] == df_eval_ces['preds']]\n",
    "\n",
    "if len(df_eval_ces) > 100:\n",
    "    select_index = np.random.choice(list(range(0, len(df_eval_ces))), 100, replace=False)\n",
    "    df_eval_ces = df_eval_ces.iloc[select_index]\n",
    "\n",
    "corr_ces = [False] * len(df_eval_ces)\n",
    "for n in range(len(df_eval_ces)):\n",
    "\n",
    "    try:\n",
    "        ce = apply_dice(rf, df_eval_ces.iloc[[n]].drop([target, 'preds'], axis=1), df_train,\n",
    "                        list(df_eval_ces.drop([target, 'preds'], axis=1).columns), target,\n",
    "                        number_cfs=1, seed=seed)\n",
    "    except (TimeoutError, UserConfigValidationException):\n",
    "        continue\n",
    "\n",
    "    # evaluate counterfactual explanation\n",
    "    corr_ces[n] = evaluate_counterfactual(ce, df_eval_ces.iloc[[n]].drop('preds', axis=1),\n",
    "                                          german_credit_label_modifier, \n",
    "                                          decisive_columns)"
   ]
  },
  {
   "cell_type": "code",
   "execution_count": null,
   "id": "93f1745a-1738-4a93-8137-4b1c9ac4a802",
   "metadata": {},
   "outputs": [],
   "source": [
    "df_eval_ces['corr_ces'] = corr_ces\n",
    "\n",
    "try:\n",
    "    corr_ces_pos = len(df_eval_ces[(df_eval_ces[target] == 1) & (df_eval_ces['corr_ces'] == True)]) \\\n",
    "        / len(df_eval_ces[df_eval_ces[target] == 1])\n",
    "except ZeroDivisionError:\n",
    "    corr_ces_pos = 0\n",
    "try:\n",
    "    corr_ces_neg = len(df_eval_ces[(df_eval_ces[target] == 0) & (df_eval_ces['corr_ces'] == True)]) \\\n",
    "        / len(df_eval_ces[df_eval_ces[target] == 0])\n",
    "except ZeroDivisionError:\n",
    "    corr_ces_neg = 0\n",
    "\n",
    "print('correct ces positive class:', corr_ces_pos, '(n='+str(len(df_eval_ces[df_eval_ces[target] == 1]))+str(')'))\n",
    "print('correct ces negative class:', corr_ces_neg, '(n='+str(len(df_eval_ces[df_eval_ces[target] == 0]))+str(')'))"
   ]
  },
  {
   "cell_type": "markdown",
   "id": "1e488b82-7acb-43d0-8bc5-9fd8ce5df9af",
   "metadata": {},
   "source": [
    "### Adult"
   ]
  },
  {
   "cell_type": "code",
   "execution_count": null,
   "id": "b391d848-8ab1-4b46-9d63-b0f4457b4938",
   "metadata": {},
   "outputs": [],
   "source": [
    "from preprocess_adult_data import preprocess_adult_data\n",
    "from preprocess_adult_data import adult_label_modifier"
   ]
  },
  {
   "cell_type": "code",
   "execution_count": null,
   "id": "50808c07-e45d-4a6e-b371-36758c9f581d",
   "metadata": {},
   "outputs": [],
   "source": [
    "adult_dir = 'data/adult.csv'"
   ]
  },
  {
   "cell_type": "code",
   "execution_count": null,
   "id": "e55a2d21-c7b7-4613-9818-a62f94f535d2",
   "metadata": {},
   "outputs": [],
   "source": [
    "target = 'income'\n",
    "decisive_columns = ['workclass', 'educationalnum', 'hoursperweek']"
   ]
  },
  {
   "cell_type": "code",
   "execution_count": null,
   "id": "c057d173-c29a-47b8-b442-be4eca8a04d2",
   "metadata": {},
   "outputs": [],
   "source": [
    "df_train, df_test, label_transformers, metric_transformers = preprocess_adult_data(adult_dir, 0.3, True, seed)\n",
    "df_train.head()"
   ]
  },
  {
   "cell_type": "code",
   "execution_count": null,
   "id": "0447cb06-9e8c-4cc3-be66-2c9fdf1651ba",
   "metadata": {},
   "outputs": [],
   "source": [
    "rf = RandomForestClassifier(class_weight='balanced', random_state=seed)\n",
    "rf.fit(np.asarray(df_train.drop(columns=[target])), np.asarray(df_train[target]))"
   ]
  },
  {
   "cell_type": "code",
   "execution_count": null,
   "id": "e655a564-c32c-4981-9f66-9b96d5516d19",
   "metadata": {},
   "outputs": [],
   "source": [
    "y_pred = rf.predict(df_test.drop(target, axis=1))\n",
    "tn, fp, fn, tp = confusion_matrix(np.asarray(df_test[target]), y_pred).ravel()\n",
    "fp_rate = fp / (fp + tn)\n",
    "fn_rate = fn / (fn + tp)\n",
    "precision = tp / (tp + fp)\n",
    "recall = tp / (tp + fn)\n",
    "accuracy = (tp + tn) / len(y_pred)\n",
    "\n",
    "print('fp rate:', fp_rate)\n",
    "print('fn rate:', fn_rate)\n",
    "print('precision:', precision)\n",
    "print('recall:', recall)\n",
    "print('accuracy:', accuracy)"
   ]
  },
  {
   "cell_type": "code",
   "execution_count": null,
   "id": "dc2c8d71-6c55-4618-8e58-b37de330c2b9",
   "metadata": {},
   "outputs": [],
   "source": [
    "%%capture\n",
    "\n",
    "df_eval_ces = df_test.copy()\n",
    "\n",
    "df_eval_ces['preds'] = y_pred\n",
    "df_eval_ces = df_eval_ces[df_eval_ces[target] == df_eval_ces['preds']]\n",
    "\n",
    "if len(df_eval_ces) > 100:\n",
    "    select_index = np.random.choice(list(range(0, len(df_eval_ces))), 100, replace=False)\n",
    "    df_eval_ces = df_eval_ces.iloc[select_index]\n",
    "\n",
    "corr_ces = [False] * len(df_eval_ces)\n",
    "for n in range(len(df_eval_ces)):\n",
    "\n",
    "    try:\n",
    "        ce = apply_dice(rf, df_eval_ces.iloc[[n]].drop([target, 'preds'], axis=1), df_train,\n",
    "                        list(df_eval_ces.drop([target, 'preds'], axis=1).columns), target,\n",
    "                        number_cfs=1, seed=seed)\n",
    "    except (TimeoutError, UserConfigValidationException):\n",
    "        continue\n",
    "\n",
    "    # evaluate counterfactual explanation\n",
    "    corr_ces[n] = evaluate_counterfactual(ce, df_eval_ces.iloc[[n]].drop('preds', axis=1),\n",
    "                                          adult_label_modifier, \n",
    "                                          decisive_columns)"
   ]
  },
  {
   "cell_type": "code",
   "execution_count": null,
   "id": "a407633f-969e-4fa2-b982-cd2b8924c669",
   "metadata": {},
   "outputs": [],
   "source": [
    "df_eval_ces['corr_ces'] = corr_ces\n",
    "\n",
    "try:\n",
    "    corr_ces_pos = len(df_eval_ces[(df_eval_ces[target] == 1) & (df_eval_ces['corr_ces'] == True)]) \\\n",
    "        / len(df_eval_ces[df_eval_ces[target] == 1])\n",
    "except ZeroDivisionError:\n",
    "    corr_ces_pos = 0\n",
    "try:\n",
    "    corr_ces_neg = len(df_eval_ces[(df_eval_ces[target] == 0) & (df_eval_ces['corr_ces'] == True)]) \\\n",
    "        / len(df_eval_ces[df_eval_ces[target] == 0])\n",
    "except ZeroDivisionError:\n",
    "    corr_ces_neg = 0\n",
    "\n",
    "print('correct ces positive class:', corr_ces_pos, '(n='+str(len(df_eval_ces[df_eval_ces[target] == 1]))+str(')'))\n",
    "print('correct ces negative class:', corr_ces_neg, '(n='+str(len(df_eval_ces[df_eval_ces[target] == 0]))+str(')'))"
   ]
  },
  {
   "cell_type": "markdown",
   "id": "1b7e3cce-6fee-447a-bbe2-5c0da18176b9",
   "metadata": {},
   "source": [
    "### Diabetes"
   ]
  },
  {
   "cell_type": "code",
   "execution_count": null,
   "id": "aae52176-621b-47b1-a2a9-cbaac948a334",
   "metadata": {},
   "outputs": [],
   "source": [
    "from preprocess_diabetes_data import preprocess_diabetes_data\n",
    "from preprocess_diabetes_data import diabetes_label_modifier"
   ]
  },
  {
   "cell_type": "code",
   "execution_count": null,
   "id": "9ef19bfa-87e7-4c40-994e-82a0e266760d",
   "metadata": {},
   "outputs": [],
   "source": [
    "diabetes_dir = 'data/diabetes.csv'"
   ]
  },
  {
   "cell_type": "code",
   "execution_count": null,
   "id": "1c31d381-3240-486d-9082-a320b1c22c7c",
   "metadata": {},
   "outputs": [],
   "source": [
    "target = 'diabetes'\n",
    "decisive_columns = ['bloodpressure', 'bmi', 'glucose']"
   ]
  },
  {
   "cell_type": "code",
   "execution_count": null,
   "id": "1867de77-d9d2-454f-9de7-4dcade2bf101",
   "metadata": {},
   "outputs": [],
   "source": [
    "df_train, df_test, label_transformers, metric_transformers = preprocess_diabetes_data(diabetes_dir, 0.3, True, seed)\n",
    "df_train.head()"
   ]
  },
  {
   "cell_type": "code",
   "execution_count": null,
   "id": "6dcde8b1-5b43-4c0f-9de8-fa8505be6cf3",
   "metadata": {},
   "outputs": [],
   "source": [
    "rf = RandomForestClassifier(class_weight='balanced', random_state=seed)\n",
    "rf.fit(np.asarray(df_train.drop(columns=[target])), np.asarray(df_train[target]))"
   ]
  },
  {
   "cell_type": "code",
   "execution_count": null,
   "id": "e859390b-10ed-47e6-bbc6-d8dc4db88e42",
   "metadata": {},
   "outputs": [],
   "source": [
    "y_pred = rf.predict(df_test.drop(target, axis=1))\n",
    "tn, fp, fn, tp = confusion_matrix(np.asarray(df_test[target]), y_pred).ravel()\n",
    "fp_rate = fp / (fp + tn)\n",
    "fn_rate = fn / (fn + tp)\n",
    "precision = tp / (tp + fp)\n",
    "recall = tp / (tp + fn)\n",
    "accuracy = (tp + tn) / len(y_pred)\n",
    "\n",
    "print('fp rate:', fp_rate)\n",
    "print('fn rate:', fn_rate)\n",
    "print('precision:', precision)\n",
    "print('recall:', recall)\n",
    "print('accuracy:', accuracy)"
   ]
  },
  {
   "cell_type": "code",
   "execution_count": null,
   "id": "43c7ccbc-114c-484b-9964-bda0e7f6641e",
   "metadata": {},
   "outputs": [],
   "source": [
    "%%capture\n",
    "\n",
    "df_eval_ces = df_test.copy()\n",
    "\n",
    "df_eval_ces['preds'] = y_pred\n",
    "df_eval_ces = df_eval_ces[df_eval_ces[target] == df_eval_ces['preds']]\n",
    "\n",
    "if len(df_eval_ces) > 100:\n",
    "    select_index = np.random.choice(list(range(0, len(df_eval_ces))), 100, replace=False)\n",
    "    df_eval_ces = df_eval_ces.iloc[select_index]\n",
    "\n",
    "corr_ces = [False] * len(df_eval_ces)\n",
    "for n in range(len(df_eval_ces)):\n",
    "\n",
    "    try:\n",
    "        ce = apply_dice(rf, df_eval_ces.iloc[[n]].drop([target, 'preds'], axis=1), df_train,\n",
    "                        list(df_eval_ces.drop([target, 'preds'], axis=1).columns), target,\n",
    "                        number_cfs=1, seed=seed)\n",
    "    except (TimeoutError, UserConfigValidationException):\n",
    "        continue\n",
    "\n",
    "    # evaluate counterfactual explanation\n",
    "    corr_ces[n] = evaluate_counterfactual(ce, df_eval_ces.iloc[[n]].drop('preds', axis=1),\n",
    "                                          diabetes_label_modifier, \n",
    "                                          decisive_columns)"
   ]
  },
  {
   "cell_type": "code",
   "execution_count": null,
   "id": "3915c5dc-a140-453e-9f83-e0640903bd6c",
   "metadata": {},
   "outputs": [],
   "source": [
    "df_eval_ces['corr_ces'] = corr_ces\n",
    "\n",
    "try:\n",
    "    corr_ces_pos = len(df_eval_ces[(df_eval_ces[target] == 1) & (df_eval_ces['corr_ces'] == True)]) \\\n",
    "        / len(df_eval_ces[df_eval_ces[target] == 1])\n",
    "except ZeroDivisionError:\n",
    "    corr_ces_pos = 0\n",
    "try:\n",
    "    corr_ces_neg = len(df_eval_ces[(df_eval_ces[target] == 0) & (df_eval_ces['corr_ces'] == True)]) \\\n",
    "        / len(df_eval_ces[df_eval_ces[target] == 0])\n",
    "except ZeroDivisionError:\n",
    "    corr_ces_neg = 0\n",
    "\n",
    "print('correct ces positive class:', corr_ces_pos, '(n='+str(len(df_eval_ces[df_eval_ces[target] == 1]))+str(')'))\n",
    "print('correct ces negative class:', corr_ces_neg, '(n='+str(len(df_eval_ces[df_eval_ces[target] == 0]))+str(')'))"
   ]
  },
  {
   "cell_type": "markdown",
   "id": "9eea485b-34ed-4357-979f-a593f5981c39",
   "metadata": {},
   "source": [
    "### Heart"
   ]
  },
  {
   "cell_type": "code",
   "execution_count": null,
   "id": "2b67eb8d-b6dd-4680-8672-544778c99188",
   "metadata": {},
   "outputs": [],
   "source": [
    "from preprocess_heart_data import preprocess_heart_data\n",
    "from preprocess_heart_data import heart_label_modifier"
   ]
  },
  {
   "cell_type": "code",
   "execution_count": null,
   "id": "c03a2397-0142-4381-8e76-034a2a069e8d",
   "metadata": {},
   "outputs": [],
   "source": [
    "heart_dir = 'data/heart.csv'"
   ]
  },
  {
   "cell_type": "code",
   "execution_count": null,
   "id": "dba2e376-ffd9-4c94-b372-dfb14ea4f505",
   "metadata": {},
   "outputs": [],
   "source": [
    "target = 'disease'\n",
    "decisive_columns = ['fbs', 'restecg', 'thal', 'chol', 'thalach']"
   ]
  },
  {
   "cell_type": "code",
   "execution_count": null,
   "id": "789af2e2-8bfe-439a-80ff-32b402238e54",
   "metadata": {},
   "outputs": [],
   "source": [
    "df_train, df_test, label_transformers, metric_transformers = preprocess_heart_data(heart_dir, 0.3, True, seed)\n",
    "df_train.head()"
   ]
  },
  {
   "cell_type": "code",
   "execution_count": null,
   "id": "f4fff82a-e17f-4f13-b124-18252ebb2dba",
   "metadata": {},
   "outputs": [],
   "source": [
    "rf = RandomForestClassifier(class_weight='balanced', random_state=seed)\n",
    "rf.fit(np.asarray(df_train.drop(columns=[target])), np.asarray(df_train[target]))"
   ]
  },
  {
   "cell_type": "code",
   "execution_count": null,
   "id": "bd7f6c80-c318-4983-94ef-631baba23554",
   "metadata": {},
   "outputs": [],
   "source": [
    "y_pred = rf.predict(df_test.drop(target, axis=1))\n",
    "tn, fp, fn, tp = confusion_matrix(np.asarray(df_test[target]), y_pred).ravel()\n",
    "fp_rate = fp / (fp + tn)\n",
    "fn_rate = fn / (fn + tp)\n",
    "precision = tp / (tp + fp)\n",
    "recall = tp / (tp + fn)\n",
    "accuracy = (tp + tn) / len(y_pred)\n",
    "\n",
    "print('fp rate:', fp_rate)\n",
    "print('fn rate:', fn_rate)\n",
    "print('precision:', precision)\n",
    "print('recall:', recall)\n",
    "print('accuracy:', accuracy)"
   ]
  },
  {
   "cell_type": "code",
   "execution_count": null,
   "id": "c6661336-2631-46f8-a789-7381089a5ec6",
   "metadata": {},
   "outputs": [],
   "source": [
    "%%capture\n",
    "\n",
    "df_eval_ces = df_test.copy()\n",
    "\n",
    "df_eval_ces['preds'] = y_pred\n",
    "df_eval_ces = df_eval_ces[df_eval_ces[target] == df_eval_ces['preds']]\n",
    "\n",
    "if len(df_eval_ces) > 100:\n",
    "    select_index = np.random.choice(list(range(0, len(df_eval_ces))), 100, replace=False)\n",
    "    df_eval_ces = df_eval_ces.iloc[select_index]\n",
    "\n",
    "corr_ces = [False] * len(df_eval_ces)\n",
    "for n in range(len(df_eval_ces)):\n",
    "\n",
    "    try:\n",
    "        ce = apply_dice(rf, df_eval_ces.iloc[[n]].drop([target, 'preds'], axis=1), df_train,\n",
    "                        list(df_eval_ces.drop([target, 'preds'], axis=1).columns), target,\n",
    "                        number_cfs=1, seed=seed)\n",
    "    except (TimeoutError, UserConfigValidationException):\n",
    "        continue\n",
    "\n",
    "    # evaluate counterfactual explanation\n",
    "    corr_ces[n] = evaluate_counterfactual(ce, df_eval_ces.iloc[[n]].drop('preds', axis=1),\n",
    "                                          heart_label_modifier, \n",
    "                                          decisive_columns)"
   ]
  },
  {
   "cell_type": "code",
   "execution_count": null,
   "id": "590fa43a-4551-4cb5-882f-754dff05a64a",
   "metadata": {},
   "outputs": [],
   "source": [
    "df_eval_ces['corr_ces'] = corr_ces\n",
    "\n",
    "try:\n",
    "    corr_ces_pos = len(df_eval_ces[(df_eval_ces[target] == 1) & (df_eval_ces['corr_ces'] == True)]) \\\n",
    "        / len(df_eval_ces[df_eval_ces[target] == 1])\n",
    "except ZeroDivisionError:\n",
    "    corr_ces_pos = 0\n",
    "try:\n",
    "    corr_ces_neg = len(df_eval_ces[(df_eval_ces[target] == 0) & (df_eval_ces['corr_ces'] == True)]) \\\n",
    "        / len(df_eval_ces[df_eval_ces[target] == 0])\n",
    "except ZeroDivisionError:\n",
    "    corr_ces_neg = 0\n",
    "\n",
    "print('correct ces positive class:', corr_ces_pos, '(n='+str(len(df_eval_ces[df_eval_ces[target] == 1]))+str(')'))\n",
    "print('correct ces negative class:', corr_ces_neg, '(n='+str(len(df_eval_ces[df_eval_ces[target] == 0]))+str(')'))"
   ]
  }
 ],
 "metadata": {
  "kernelspec": {
   "display_name": "Python 3",
   "language": "python",
   "name": "python3"
  },
  "language_info": {
   "codemirror_mode": {
    "name": "ipython",
    "version": 3
   },
   "file_extension": ".py",
   "mimetype": "text/x-python",
   "name": "python",
   "nbconvert_exporter": "python",
   "pygments_lexer": "ipython3",
   "version": "3.8.8"
  }
 },
 "nbformat": 4,
 "nbformat_minor": 5
}
