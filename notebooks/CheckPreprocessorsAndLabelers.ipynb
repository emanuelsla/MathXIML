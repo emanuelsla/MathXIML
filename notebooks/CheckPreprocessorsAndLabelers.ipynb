{
 "cells": [
  {
   "cell_type": "code",
   "execution_count": null,
   "id": "435dd87f-4aa5-4a50-bb40-d5b5088d3644",
   "metadata": {},
   "outputs": [],
   "source": [
    "import sys\n",
    "import numpy as np\n",
    "from sklearn.ensemble import RandomForestClassifier\n",
    "from sklearn.metrics import confusion_matrix"
   ]
  },
  {
   "cell_type": "code",
   "execution_count": null,
   "id": "7ed07dc7-0da3-425c-8e5c-424c154b1d58",
   "metadata": {},
   "outputs": [],
   "source": [
    "preprocessor_dir = 'modules/preprocessors'\n",
    "sys.path.append(preprocessor_dir)"
   ]
  },
  {
   "cell_type": "code",
   "execution_count": null,
   "id": "4e04747d-7f64-4833-8ace-cdb19f5681af",
   "metadata": {},
   "outputs": [],
   "source": [
    "seed = 42"
   ]
  },
  {
   "cell_type": "markdown",
   "id": "836dac9e-67f4-4d29-a9b7-a8fb2fa9d596",
   "metadata": {},
   "source": [
    "### German Credit Risk"
   ]
  },
  {
   "cell_type": "code",
   "execution_count": null,
   "id": "ace0ede5-d573-4510-9686-ed5d26e4be98",
   "metadata": {},
   "outputs": [],
   "source": [
    "from preprocess_german_credit_data import preprocess_german_credit_data"
   ]
  },
  {
   "cell_type": "code",
   "execution_count": null,
   "id": "5f792333-d46a-4951-8384-6cc668b0b94b",
   "metadata": {},
   "outputs": [],
   "source": [
    "german_credit_dir = 'data/german_credit_data.csv'"
   ]
  },
  {
   "cell_type": "code",
   "execution_count": null,
   "id": "b713069b-9430-41f7-8bea-1ac77b64ae64",
   "metadata": {},
   "outputs": [],
   "source": [
    "df_train, df_test, label_transformers, metric_transformers = preprocess_german_credit_data(german_credit_dir, 0.3, False, seed)\n",
    "df_train.head()"
   ]
  },
  {
   "cell_type": "code",
   "execution_count": null,
   "id": "875805c9-c37a-4527-a0fc-d86efd9a52ea",
   "metadata": {},
   "outputs": [],
   "source": [
    "rf = RandomForestClassifier(class_weight='balanced', random_state=seed)\n",
    "rf.fit(np.asarray(df_train.drop(columns=['risk'])), np.asarray(df_train['risk']))"
   ]
  },
  {
   "cell_type": "code",
   "execution_count": null,
   "id": "f86632cc-af5d-4bdf-ba03-91047457c967",
   "metadata": {},
   "outputs": [],
   "source": [
    "y_pred = rf.predict(df_test.drop('risk', axis=1))\n",
    "tn, fp, fn, tp = confusion_matrix(np.asarray(df_test['risk']), y_pred).ravel()\n",
    "fp_rate = fp / (fp + tn)\n",
    "fn_rate = fn / (fn + tp)\n",
    "precision = tp / (tp + fp)\n",
    "recall = tp / (tp + fn)\n",
    "accuracy = (tp + tn) / len(y_pred)\n",
    "\n",
    "print('fp rate:', fp_rate)\n",
    "print('fn rate:', fn_rate)\n",
    "print('precision:', precision)\n",
    "print('recall:', recall)\n",
    "print('accuracy:', accuracy)"
   ]
  },
  {
   "cell_type": "code",
   "execution_count": null,
   "id": "7c1350ab-f44a-45d4-96b6-bcb8b6f74d29",
   "metadata": {},
   "outputs": [],
   "source": [
    "df_train['risk'].value_counts()/len(df_train)"
   ]
  },
  {
   "cell_type": "code",
   "execution_count": null,
   "id": "3ceb9447-ecd8-4df6-88e4-1abc094670bb",
   "metadata": {},
   "outputs": [],
   "source": [
    "df_train, df_test, label_transformers, metric_transformers = preprocess_german_credit_data(german_credit_dir, 0.3, True, seed)\n",
    "df_train.head()"
   ]
  },
  {
   "cell_type": "code",
   "execution_count": null,
   "id": "1d2ab9e6-b15e-45f4-9482-38d8a8cd3713",
   "metadata": {},
   "outputs": [],
   "source": [
    "rf = RandomForestClassifier(class_weight='balanced', random_state=seed)\n",
    "rf.fit(np.asarray(df_train.drop(columns=['risk'])), np.asarray(df_train['risk']))"
   ]
  },
  {
   "cell_type": "code",
   "execution_count": null,
   "id": "9c26652f-2160-4bb9-a560-3013403eae4c",
   "metadata": {},
   "outputs": [],
   "source": [
    "y_pred = rf.predict(df_test.drop('risk', axis=1))\n",
    "tn, fp, fn, tp = confusion_matrix(np.asarray(df_test['risk']), y_pred).ravel()\n",
    "fp_rate = fp / (fp + tn)\n",
    "fn_rate = fn / (fn + tp)\n",
    "precision = tp / (tp + fp)\n",
    "recall = tp / (tp + fn)\n",
    "accuracy = (tp + tn) / len(y_pred)\n",
    "\n",
    "print('fp rate:', fp_rate)\n",
    "print('fn rate:', fn_rate)\n",
    "print('precision:', precision)\n",
    "print('recall:', recall)\n",
    "print('accuracy:', accuracy)"
   ]
  },
  {
   "cell_type": "code",
   "execution_count": null,
   "id": "1e4af384-0f76-4240-b0f6-9bb86a628291",
   "metadata": {},
   "outputs": [],
   "source": [
    "df_train['risk'].value_counts()/len(df_train)"
   ]
  },
  {
   "cell_type": "markdown",
   "id": "d4207d80-7e54-4943-9240-f3c9430ba218",
   "metadata": {},
   "source": [
    "### Adult"
   ]
  },
  {
   "cell_type": "code",
   "execution_count": null,
   "id": "0abb998e-665f-407e-88e6-de74b182ce5c",
   "metadata": {},
   "outputs": [],
   "source": [
    "from preprocess_adult_data import preprocess_adult_data"
   ]
  },
  {
   "cell_type": "code",
   "execution_count": null,
   "id": "b20a57ed-8fed-4192-875c-8f6af840040b",
   "metadata": {},
   "outputs": [],
   "source": [
    "adult_dir = 'data/adult.csv'"
   ]
  },
  {
   "cell_type": "code",
   "execution_count": null,
   "id": "9ac77129-dce4-4467-8148-9d31cd881c5b",
   "metadata": {},
   "outputs": [],
   "source": [
    "df_train, df_test, label_transformers, metric_transformers = preprocess_adult_data(adult_dir, 0.3, False, seed)\n",
    "df_train.head()"
   ]
  },
  {
   "cell_type": "code",
   "execution_count": null,
   "id": "8322d6d7-edbd-4a1c-b69a-d61c281a862c",
   "metadata": {},
   "outputs": [],
   "source": [
    "rf = RandomForestClassifier(class_weight='balanced', random_state=seed)\n",
    "rf.fit(np.asarray(df_train.drop(columns=['income'])), np.asarray(df_train['income']))"
   ]
  },
  {
   "cell_type": "code",
   "execution_count": null,
   "id": "e1c2026e-9044-45cc-be8f-31532df9cf3e",
   "metadata": {},
   "outputs": [],
   "source": [
    "y_pred = rf.predict(df_test.drop('income', axis=1))\n",
    "tn, fp, fn, tp = confusion_matrix(np.asarray(df_test['income']), y_pred).ravel()\n",
    "fp_rate = fp / (fp + tn)\n",
    "fn_rate = fn / (fn + tp)\n",
    "precision = tp / (tp + fp)\n",
    "recall = tp / (tp + fn)\n",
    "accuracy = (tp + tn) / len(y_pred)\n",
    "\n",
    "print('fp rate:', fp_rate)\n",
    "print('fn rate:', fn_rate)\n",
    "print('precision:', precision)\n",
    "print('recall:', recall)\n",
    "print('accuracy:', accuracy)"
   ]
  },
  {
   "cell_type": "code",
   "execution_count": null,
   "id": "3cee5e08-59ef-48f6-a864-7ea5183e4c46",
   "metadata": {},
   "outputs": [],
   "source": [
    "df_train['income'].value_counts()/len(df_train)"
   ]
  },
  {
   "cell_type": "code",
   "execution_count": null,
   "id": "e91a3a91-4f74-4742-9656-3a57963e8e09",
   "metadata": {},
   "outputs": [],
   "source": [
    "df_train, df_test, label_transformers, metric_transformers = preprocess_adult_data(adult_dir, 0.3, True, seed)\n",
    "df_train.head()"
   ]
  },
  {
   "cell_type": "code",
   "execution_count": null,
   "id": "dd5c54ce-1020-462c-ae67-bab01d674101",
   "metadata": {},
   "outputs": [],
   "source": [
    "rf = RandomForestClassifier(class_weight='balanced', random_state=seed)\n",
    "rf.fit(np.asarray(df_train.drop(columns=['income'])), np.asarray(df_train['income']))"
   ]
  },
  {
   "cell_type": "code",
   "execution_count": null,
   "id": "81953e46-9ef7-4971-8e5d-38b4cfb46066",
   "metadata": {},
   "outputs": [],
   "source": [
    "y_pred = rf.predict(df_test.drop('income', axis=1))\n",
    "tn, fp, fn, tp = confusion_matrix(np.asarray(df_test['income']), y_pred).ravel()\n",
    "fp_rate = fp / (fp + tn)\n",
    "fn_rate = fn / (fn + tp)\n",
    "precision = tp / (tp + fp)\n",
    "recall = tp / (tp + fn)\n",
    "accuracy = (tp + tn) / len(y_pred)\n",
    "\n",
    "print('fp rate:', fp_rate)\n",
    "print('fn rate:', fn_rate)\n",
    "print('precision:', precision)\n",
    "print('recall:', recall)\n",
    "print('accuracy:', accuracy)"
   ]
  },
  {
   "cell_type": "code",
   "execution_count": null,
   "id": "33aea9a3-2af0-4461-92a0-3405cceb85cd",
   "metadata": {},
   "outputs": [],
   "source": [
    "df_train['income'].value_counts()/len(df_train)"
   ]
  },
  {
   "cell_type": "markdown",
   "id": "74ce73dc-4140-4bf4-9b2a-c79a008ba719",
   "metadata": {},
   "source": [
    "### Diabetes"
   ]
  },
  {
   "cell_type": "code",
   "execution_count": null,
   "id": "41275ce9-17f9-4df8-8acd-c480eaac3640",
   "metadata": {},
   "outputs": [],
   "source": [
    "from preprocess_diabetes_data import preprocess_diabetes_data"
   ]
  },
  {
   "cell_type": "code",
   "execution_count": null,
   "id": "4a125519-b534-46f1-ab73-a8538b9ffc6f",
   "metadata": {},
   "outputs": [],
   "source": [
    "diabetes_dir = 'data/diabetes.csv'"
   ]
  },
  {
   "cell_type": "code",
   "execution_count": null,
   "id": "c7111870-858f-4c59-bacb-a4471af79fea",
   "metadata": {},
   "outputs": [],
   "source": [
    "df_train, df_test, label_transformers, metric_transformers = preprocess_diabetes_data(diabetes_dir, 0.3, False, seed)\n",
    "df_train.head()"
   ]
  },
  {
   "cell_type": "code",
   "execution_count": null,
   "id": "a3bffa90-6874-44d5-97c8-95a9ef1ae586",
   "metadata": {},
   "outputs": [],
   "source": [
    "rf = RandomForestClassifier(class_weight='balanced', random_state=seed)\n",
    "rf.fit(np.asarray(df_train.drop(columns=['diabetes'])), np.asarray(df_train['diabetes']))"
   ]
  },
  {
   "cell_type": "code",
   "execution_count": null,
   "id": "f937ba21-0061-4891-a2f8-14d67b8ebc29",
   "metadata": {},
   "outputs": [],
   "source": [
    "y_pred = rf.predict(df_test.drop('diabetes', axis=1))\n",
    "tn, fp, fn, tp = confusion_matrix(np.asarray(df_test['diabetes']), y_pred).ravel()\n",
    "fp_rate = fp / (fp + tn)\n",
    "fn_rate = fn / (fn + tp)\n",
    "precision = tp / (tp + fp)\n",
    "recall = tp / (tp + fn)\n",
    "accuracy = (tp + tn) / len(y_pred)\n",
    "\n",
    "print('fp rate:', fp_rate)\n",
    "print('fn rate:', fn_rate)\n",
    "print('precision:', precision)\n",
    "print('recall:', recall)\n",
    "print('accuracy:', accuracy)"
   ]
  },
  {
   "cell_type": "code",
   "execution_count": null,
   "id": "326997ac-25ab-43bc-b46e-baa4f9056598",
   "metadata": {},
   "outputs": [],
   "source": [
    "df_train['diabetes'].value_counts()/len(df_train)"
   ]
  },
  {
   "cell_type": "code",
   "execution_count": null,
   "id": "c68d8b27-b2ef-4831-b3a5-891ef59803c3",
   "metadata": {},
   "outputs": [],
   "source": [
    "df_train, df_test, label_transformers, metric_transformers = preprocess_diabetes_data(diabetes_dir, 0.3, True, seed)\n",
    "df_train.head()"
   ]
  },
  {
   "cell_type": "code",
   "execution_count": null,
   "id": "e11fd1b0-5089-4924-a6a0-4190f40b480b",
   "metadata": {},
   "outputs": [],
   "source": [
    "rf = RandomForestClassifier(class_weight='balanced', random_state=seed)\n",
    "rf.fit(np.asarray(df_train.drop(columns=['diabetes'])), np.asarray(df_train['diabetes']))"
   ]
  },
  {
   "cell_type": "code",
   "execution_count": null,
   "id": "b224b141-eaf5-4433-b73c-2e96e6f023c3",
   "metadata": {},
   "outputs": [],
   "source": [
    "y_pred = rf.predict(df_test.drop('diabetes', axis=1))\n",
    "tn, fp, fn, tp = confusion_matrix(np.asarray(df_test['diabetes']), y_pred).ravel()\n",
    "fp_rate = fp / (fp + tn)\n",
    "fn_rate = fn / (fn + tp)\n",
    "precision = tp / (tp + fp)\n",
    "recall = tp / (tp + fn)\n",
    "accuracy = (tp + tn) / len(y_pred)\n",
    "\n",
    "print('fp rate:', fp_rate)\n",
    "print('fn rate:', fn_rate)\n",
    "print('precision:', precision)\n",
    "print('recall:', recall)\n",
    "print('accuracy:', accuracy)"
   ]
  },
  {
   "cell_type": "code",
   "execution_count": null,
   "id": "d4b05882-a5ce-4456-8a40-07b3678ebf2c",
   "metadata": {},
   "outputs": [],
   "source": [
    "df_train['diabetes'].value_counts()/len(df_train)"
   ]
  },
  {
   "cell_type": "markdown",
   "id": "91919055-f2dc-46af-93cf-2ab4f6dbd1b4",
   "metadata": {},
   "source": [
    "### Heart"
   ]
  },
  {
   "cell_type": "code",
   "execution_count": null,
   "id": "149ab2cd-7e30-4134-a02e-9599bbc87245",
   "metadata": {},
   "outputs": [],
   "source": [
    "from preprocess_heart_data import preprocess_heart_data"
   ]
  },
  {
   "cell_type": "code",
   "execution_count": null,
   "id": "e7933ee8-70f6-4f78-a149-4f9137d0b9b6",
   "metadata": {},
   "outputs": [],
   "source": [
    "heart_dir = 'data/heart.csv'"
   ]
  },
  {
   "cell_type": "code",
   "execution_count": null,
   "id": "3dda3474-020d-4f23-aca0-89493b471dd6",
   "metadata": {},
   "outputs": [],
   "source": [
    "df_train, df_test, label_transformers, metric_transformers = preprocess_heart_data(heart_dir, 0.3, False, seed)\n",
    "df_train.head()"
   ]
  },
  {
   "cell_type": "code",
   "execution_count": null,
   "id": "931b1dac-f33a-4a33-acf8-b1d881b1be54",
   "metadata": {},
   "outputs": [],
   "source": [
    "rf = RandomForestClassifier(class_weight='balanced', random_state=seed)\n",
    "rf.fit(np.asarray(df_train.drop(columns=['disease'])), np.asarray(df_train['disease']))"
   ]
  },
  {
   "cell_type": "code",
   "execution_count": null,
   "id": "f0265bfa-f59a-41a3-8768-456a7613cbcd",
   "metadata": {},
   "outputs": [],
   "source": [
    "y_pred = rf.predict(df_test.drop('disease', axis=1))\n",
    "tn, fp, fn, tp = confusion_matrix(np.asarray(df_test['disease']), y_pred).ravel()\n",
    "fp_rate = fp / (fp + tn)\n",
    "fn_rate = fn / (fn + tp)\n",
    "precision = tp / (tp + fp)\n",
    "recall = tp / (tp + fn)\n",
    "accuracy = (tp + tn) / len(y_pred)\n",
    "\n",
    "print('fp rate:', fp_rate)\n",
    "print('fn rate:', fn_rate)\n",
    "print('precision:', precision)\n",
    "print('recall:', recall)\n",
    "print('accuracy:', accuracy)"
   ]
  },
  {
   "cell_type": "code",
   "execution_count": null,
   "id": "351ae79e-54a4-4184-bb16-92bc8907ef55",
   "metadata": {},
   "outputs": [],
   "source": [
    "df_train['disease'].value_counts()/len(df_train)"
   ]
  },
  {
   "cell_type": "code",
   "execution_count": null,
   "id": "57fb317e-8e86-44dc-b8bb-156c6f35625c",
   "metadata": {},
   "outputs": [],
   "source": [
    "df_train, df_test, label_transformers, metric_transformers = preprocess_heart_data(heart_dir, 0.3, True, seed)\n",
    "df_train.head()"
   ]
  },
  {
   "cell_type": "code",
   "execution_count": null,
   "id": "150a9839-4775-499c-895d-24ca47a503f5",
   "metadata": {},
   "outputs": [],
   "source": [
    "rf = RandomForestClassifier(class_weight='balanced', random_state=seed)\n",
    "rf.fit(np.asarray(df_train.drop(columns=['disease'])), np.asarray(df_train['disease']))"
   ]
  },
  {
   "cell_type": "code",
   "execution_count": null,
   "id": "c289906d-b1ef-4f32-8622-d52d3d7d54f2",
   "metadata": {},
   "outputs": [],
   "source": [
    "y_pred = rf.predict(df_test.drop('disease', axis=1))\n",
    "tn, fp, fn, tp = confusion_matrix(np.asarray(df_test['disease']), y_pred).ravel()\n",
    "fp_rate = fp / (fp + tn)\n",
    "fn_rate = fn / (fn + tp)\n",
    "precision = tp / (tp + fp)\n",
    "recall = tp / (tp + fn)\n",
    "accuracy = (tp + tn) / len(y_pred)\n",
    "\n",
    "print('fp rate:', fp_rate)\n",
    "print('fn rate:', fn_rate)\n",
    "print('precision:', precision)\n",
    "print('recall:', recall)\n",
    "print('accuracy:', accuracy)"
   ]
  },
  {
   "cell_type": "code",
   "execution_count": null,
   "id": "16ae7904-6199-4f2f-aa60-5a0a51a36d76",
   "metadata": {},
   "outputs": [],
   "source": [
    "df_train['disease'].value_counts()/len(df_train)"
   ]
  },
  {
   "cell_type": "markdown",
   "id": "1c79e53c-a777-4097-9582-00a6f5e78bd8",
   "metadata": {},
   "source": [
    "### Mushrooms"
   ]
  },
  {
   "cell_type": "code",
   "execution_count": null,
   "id": "c5a3ff88-60d8-4b2c-8428-bb7e362101e4",
   "metadata": {},
   "outputs": [],
   "source": [
    "from preprocess_mushrooms_data import preprocess_mushrooms_data"
   ]
  },
  {
   "cell_type": "code",
   "execution_count": null,
   "id": "0281a464-371b-4f1f-8942-4ce46e4aa9b1",
   "metadata": {},
   "outputs": [],
   "source": [
    "mushrooms_dir = 'data/mushrooms.csv'"
   ]
  },
  {
   "cell_type": "code",
   "execution_count": null,
   "id": "245ff7a7-423e-4160-99f3-ae4fed23f880",
   "metadata": {},
   "outputs": [],
   "source": [
    "df_train, df_test, label_transformers, metric_transformers = preprocess_mushrooms_data(mushrooms_dir, 0.3, False, seed)\n",
    "df_train.head()"
   ]
  },
  {
   "cell_type": "code",
   "execution_count": null,
   "id": "9fd84019-e4f4-4f26-ba56-9e982f580377",
   "metadata": {},
   "outputs": [],
   "source": [
    "rf = RandomForestClassifier(class_weight='balanced', random_state=seed)\n",
    "rf.fit(np.asarray(df_train.drop(columns=['target'])), np.asarray(df_train['target']))"
   ]
  },
  {
   "cell_type": "code",
   "execution_count": null,
   "id": "f5200b3a-af6b-4d25-965a-aa10f90865c7",
   "metadata": {},
   "outputs": [],
   "source": [
    "y_pred = rf.predict(df_test.drop('target', axis=1))\n",
    "tn, fp, fn, tp = confusion_matrix(np.asarray(df_test['target']), y_pred).ravel()\n",
    "fp_rate = fp / (fp + tn)\n",
    "fn_rate = fn / (fn + tp)\n",
    "precision = tp / (tp + fp)\n",
    "recall = tp / (tp + fn)\n",
    "accuracy = (tp + tn) / len(y_pred)\n",
    "\n",
    "print('fp rate:', fp_rate)\n",
    "print('fn rate:', fn_rate)\n",
    "print('precision:', precision)\n",
    "print('recall:', recall)\n",
    "print('accuracy:', accuracy)"
   ]
  },
  {
   "cell_type": "code",
   "execution_count": null,
   "id": "e1e33760-bb93-4ea2-ab95-7962f7cf8944",
   "metadata": {},
   "outputs": [],
   "source": [
    "df_train['target'].value_counts()/len(df_train)"
   ]
  },
  {
   "cell_type": "code",
   "execution_count": null,
   "id": "60ba8e29-20fb-4c83-ad76-22abb91bc2f2",
   "metadata": {},
   "outputs": [],
   "source": [
    "df_train, df_test, label_transformers, metric_transformers = preprocess_mushrooms_data(mushrooms_dir, 0.3, True, seed)\n",
    "df_train.head()"
   ]
  },
  {
   "cell_type": "code",
   "execution_count": null,
   "id": "69422332-06e5-41d1-bd2a-33d5de5b453a",
   "metadata": {},
   "outputs": [],
   "source": [
    "rf = RandomForestClassifier(class_weight='balanced', random_state=seed)\n",
    "rf.fit(np.asarray(df_train.drop(columns=['target'])), np.asarray(df_train['target']))"
   ]
  },
  {
   "cell_type": "code",
   "execution_count": null,
   "id": "2a0ac02e-1a42-437d-94b0-997b88097ece",
   "metadata": {},
   "outputs": [],
   "source": [
    "y_pred = rf.predict(df_test.drop('target', axis=1))\n",
    "tn, fp, fn, tp = confusion_matrix(np.asarray(df_test['target']), y_pred).ravel()\n",
    "fp_rate = fp / (fp + tn)\n",
    "fn_rate = fn / (fn + tp)\n",
    "precision = tp / (tp + fp)\n",
    "recall = tp / (tp + fn)\n",
    "accuracy = (tp + tn) / len(y_pred)\n",
    "\n",
    "print('fp rate:', fp_rate)\n",
    "print('fn rate:', fn_rate)\n",
    "print('precision:', precision)\n",
    "print('recall:', recall)\n",
    "print('accuracy:', accuracy)"
   ]
  },
  {
   "cell_type": "code",
   "execution_count": null,
   "id": "fe7d5b24-58a6-44ee-85e4-723850f72eb7",
   "metadata": {},
   "outputs": [],
   "source": [
    "df_train['target'].value_counts()/len(df_train)"
   ]
  }
 ],
 "metadata": {
  "kernelspec": {
   "display_name": "Python 3 (ipykernel)",
   "language": "python",
   "name": "python3"
  },
  "language_info": {
   "codemirror_mode": {
    "name": "ipython",
    "version": 3
   },
   "file_extension": ".py",
   "mimetype": "text/x-python",
   "name": "python",
   "nbconvert_exporter": "python",
   "pygments_lexer": "ipython3",
   "version": "3.9.10"
  }
 },
 "nbformat": 4,
 "nbformat_minor": 5
}
