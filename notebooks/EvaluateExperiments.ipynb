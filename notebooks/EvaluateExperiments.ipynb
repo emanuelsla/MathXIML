{
 "cells": [
  {
   "cell_type": "code",
   "execution_count": null,
   "id": "4fccedc9-4afe-42c3-9248-19c7c7fbd9dc",
   "metadata": {},
   "outputs": [],
   "source": [
    "import os\n",
    "import pandas as pd\n",
    "import matplotlib.pyplot as plt\n",
    "plt.rc('font',family='Times New Roman', size=20)"
   ]
  },
  {
   "cell_type": "code",
   "execution_count": null,
   "id": "234850dd-13b4-429e-94d5-427abfe55d81",
   "metadata": {},
   "outputs": [],
   "source": [
    "results_dir = 'results/'"
   ]
  },
  {
   "cell_type": "code",
   "execution_count": null,
   "id": "eb345f2c-fff4-4f10-9799-c59a15348acf",
   "metadata": {},
   "outputs": [],
   "source": [
    "files = os.listdir(results_dir)\n",
    "files = [f for f in files if '.csv' in f]\n",
    "files = [f for f in files if not 'test.csv' in f]\n",
    "files"
   ]
  },
  {
   "cell_type": "code",
   "execution_count": null,
   "id": "e552decb-1484-40ee-9d09-06bbf8485ea5",
   "metadata": {},
   "outputs": [],
   "source": [
    "df = pd.DataFrame()\n",
    "\n",
    "for f in files:\n",
    "    df_tmp = pd.read_csv(results_dir+f, index_col=False)\n",
    "    s_tmp = f.split('_')\n",
    "    df_tmp['data'] = s_tmp[0]\n",
    "    df_tmp['c'] = s_tmp[1][1:-4]\n",
    "    df = pd.concat([df, df_tmp])\n",
    "\n",
    "df = df.drop(['Unnamed: 0'], axis=1).reset_index(drop=True)\n",
    "df = df.rename({'fn_rates': 'fn_rate'}, axis=1)\n",
    "\n",
    "rwr = [0]*len(df)\n",
    "for i in range(len(df)):\n",
    "    if df.loc[i, 'state'] == 'RWR':\n",
    "        rwr[i] = 1\n",
    "df['rwr'] = rwr\n",
    "\n",
    "df"
   ]
  },
  {
   "cell_type": "code",
   "execution_count": null,
   "id": "a35336a8-9806-46a4-b6ca-ff1961359606",
   "metadata": {},
   "outputs": [],
   "source": [
    "df_tmp = df[df['caipi_iter'] <= 50]\n",
    "\n",
    "df_tmp = df_tmp.drop(['caipi_iter', 'state', 'labeled_size', 'unlabeled_size', 'precision', 'recall', 'accuracy'], axis=1)\n",
    "\n",
    "df_tmp_group = df_tmp.groupby(['exp_iter', 'data', 'c']).agg({'fp_rate': 'min',\n",
    "                                                              'fn_rate': 'min',\n",
    "                                                              'corr_ces_pos': 'max',\n",
    "                                                              'corr_ces_neg': 'max',\n",
    "                                                              'rwr': 'sum'}) \n",
    "\n",
    "df_tmp_group.groupby(['data', 'c']).agg(['mean', 'std']).round(4)"
   ]
  },
  {
   "cell_type": "code",
   "execution_count": null,
   "id": "cd0f2f75-ddbc-47c8-bf48-ed143d2a6789",
   "metadata": {},
   "outputs": [],
   "source": [
    "df_tmp = df[df['caipi_iter'] == 50]\n",
    "\n",
    "df_tmp = df_tmp.drop(['exp_iter', 'rwr', 'caipi_iter', 'state', 'labeled_size', 'unlabeled_size', 'precision', 'recall', 'accuracy'], axis=1)\n",
    "df_tmp.groupby(['data', 'c']).agg(['mean', 'std']).round(4)"
   ]
  },
  {
   "cell_type": "code",
   "execution_count": null,
   "id": "56e6c129-7b06-4991-bab0-fb62bd9cb149",
   "metadata": {},
   "outputs": [],
   "source": [
    "df_benchmark = pd.read_excel(results_dir+'benchmark.xlsx')\n",
    "\n",
    "exp_names = []\n",
    "for i in range(len(df_benchmark)):\n",
    "    name = df_benchmark.loc[i, 'experiment'].split('_')[0]\n",
    "    exp_names.append(name)\n",
    "df_benchmark['experiment'] = exp_names\n",
    "\n",
    "df_benchmark = df_benchmark.drop(['precision', 'recall', 'accuracy'], axis=1)\n",
    "\n",
    "df_benchmark.groupby(['experiment']).agg(['mean', 'std'])"
   ]
  },
  {
   "cell_type": "code",
   "execution_count": null,
   "id": "18257761-7f36-4f43-b9c6-9bbfd0759324",
   "metadata": {},
   "outputs": [],
   "source": [
    "fig, ax = plt.subplots(figsize=(10, 10), dpi=350)\n",
    "\n",
    "plt.plot(range(1, 51), df[(df['data'] == 'credit') & (df['exp_iter'] == 1) & (df['c'] == '5') & (df['caipi_iter'] <= 50)]['fp_rate'], \n",
    "         '-o', alpha=0.5, color='tab:orange', label='c=5')\n",
    "plt.plot(range(1, 51), df[(df['data'] == 'credit') & (df['exp_iter'] == 1) & (df['c'] == '0') & (df['caipi_iter'] <= 50)]['fp_rate'], \n",
    "         '-o', alpha=0.5, color='tab:blue', label='c=0')\n",
    "\n",
    "plt.hlines(0.15324, 1, 51, color='tab:gray', linestyle='dashed', label='benchmark')\n",
    "\n",
    "for i in range(0, 50):\n",
    "    if df[(df['data'] == 'credit') & (df['exp_iter'] == 1) & (df['c'] == '5') & (df['caipi_iter'] <= 50)]['rwr'].iloc[i] == 1:\n",
    "        plt.vlines(i+1, 0, df[(df['data'] == 'credit') & (df['exp_iter'] == 1) & (df['c'] == '5') & (df['caipi_iter'] <= 50)]['fp_rate'].iloc[i],\n",
    "                  linestyle='dashed', color='moccasin')\n",
    "\n",
    "plt.legend(['c=5', 'c=0', 'benchmark', 'RWR iteration of c=5'])\n",
    "\n",
    "plt.xlabel('iterations')\n",
    "plt.ylabel('false positive rate')"
   ]
  },
  {
   "cell_type": "code",
   "execution_count": null,
   "id": "16f95b42-580e-47f9-bcbf-f9c2647b6fc7",
   "metadata": {},
   "outputs": [],
   "source": [
    "fig, ax = plt.subplots(figsize=(10, 10), dpi=350)\n",
    "\n",
    "plt.plot(range(1, 51), df[(df['data'] == 'credit') & (df['exp_iter'] == 1) & (df['c'] == '5') & (df['caipi_iter'] <= 50)]['fn_rate'], \n",
    "         '-o', alpha=0.5, color='tab:orange', label='c=5')\n",
    "plt.plot(range(1, 51), df[(df['data'] == 'credit') & (df['exp_iter'] == 1) & (df['c'] == '0') & (df['caipi_iter'] <= 50)]['fn_rate'], \n",
    "         '-o', alpha=0.5, color='tab:blue', label='c=0')\n",
    "\n",
    "plt.hlines(0.068034, 1, 51, color='tab:gray', linestyle='dashed', label='benchmark')\n",
    "\n",
    "for i in range(0, 50):\n",
    "    if df[(df['data'] == 'credit') & (df['exp_iter'] == 1) & (df['c'] == '5') & (df['caipi_iter'] <= 50)]['rwr'].iloc[i] == 1:\n",
    "        plt.vlines(i+1, 0, df[(df['data'] == 'credit') & (df['exp_iter'] == 1) & (df['c'] == '5') & (df['caipi_iter'] <= 50)]['fn_rate'].iloc[i],\n",
    "                  linestyle='dashed', color='moccasin')\n",
    "\n",
    "plt.legend(['c=5', 'c=0', 'benchmark', 'RWR iteration of c=5'])\n",
    "\n",
    "plt.xlabel('iterations')\n",
    "plt.ylabel('false negative rate')\n",
    "\n",
    "plt.show()"
   ]
  },
  {
   "cell_type": "code",
   "execution_count": null,
   "id": "09e65734-223c-47f0-ba66-02b504002e3b",
   "metadata": {},
   "outputs": [],
   "source": [
    "fig, ax = plt.subplots(figsize=(10, 10), dpi=350)\n",
    "\n",
    "plt.plot(range(1, 51), df[(df['data'] == 'credit') & (df['exp_iter'] == 1) & (df['c'] == '5') & (df['caipi_iter'] <= 50)]['corr_ces_pos'], \n",
    "         '-o', alpha=0.5, color='tab:orange', label='c=5')\n",
    "plt.plot(range(1, 51), df[(df['data'] == 'credit') & (df['exp_iter'] == 1) & (df['c'] == '0') & (df['caipi_iter'] <= 50)]['corr_ces_pos'], \n",
    "         '-o', alpha=0.5, color='tab:blue', label='c=0')\n",
    "\n",
    "plt.hlines(0.57938, 1, 51, color='tab:gray', linestyle='dashed', label='benchmark')\n",
    "\n",
    "for i in range(0, 50):\n",
    "    if df[(df['data'] == 'credit') & (df['exp_iter'] == 1) & (df['c'] == '5') & (df['caipi_iter'] <= 50)]['rwr'].iloc[i] == 1:\n",
    "        plt.vlines(i+1, 0, df[(df['data'] == 'credit') & (df['exp_iter'] == 1) & (df['c'] == '5') & (df['caipi_iter'] <= 50)]['corr_ces_pos'].iloc[i],\n",
    "                  linestyle='dashed', color='moccasin')\n",
    "\n",
    "plt.legend(['c=5', 'c=0', 'benchmark', 'RWR iteration of c=5'])\n",
    "\n",
    "plt.xlabel('iterations')\n",
    "plt.ylabel('ratio of correctly explained positive predictions')\n",
    "\n",
    "plt.show()"
   ]
  },
  {
   "cell_type": "code",
   "execution_count": null,
   "id": "4c5ea1c7-aa95-409c-a422-fd4dc01eb1a6",
   "metadata": {},
   "outputs": [],
   "source": [
    "fig, ax = plt.subplots(figsize=(10, 10), dpi=350)\n",
    "\n",
    "plt.plot(range(1, 51), df[(df['data'] == 'credit') & (df['exp_iter'] == 1) & (df['c'] == '5') & (df['caipi_iter'] <= 50)]['corr_ces_neg'], \n",
    "         '-o', alpha=0.5, color='tab:orange', label='c=5')\n",
    "plt.plot(range(1, 51), df[(df['data'] == 'credit') & (df['exp_iter'] == 1) & (df['c'] == '0') & (df['caipi_iter'] <= 50)]['corr_ces_neg'], \n",
    "         '-o', alpha=0.5, color='tab:blue', label='c=0')\n",
    "\n",
    "plt.hlines(0.29930, 1, 51, color='tab:gray', linestyle='dashed', label='benchmark')\n",
    "\n",
    "for i in range(0, 50):\n",
    "    if df[(df['data'] == 'credit') & (df['exp_iter'] == 1) & (df['c'] == '5') & (df['caipi_iter'] <= 50)]['rwr'].iloc[i] == 1:\n",
    "        plt.vlines(i+1, 0, df[(df['data'] == 'credit') & (df['exp_iter'] == 1) & (df['c'] == '5') & (df['caipi_iter'] <= 50)]['corr_ces_neg'].iloc[i],\n",
    "                  linestyle='dashed', color='moccasin')\n",
    "\n",
    "plt.legend(['c=5', 'c=0', 'benchmark', 'RWR iteration of c=5'])\n",
    "\n",
    "plt.xlabel('iterations')\n",
    "plt.ylabel('ratio of correctly explained negative predictions')\n",
    "\n",
    "plt.show()"
   ]
  },
  {
   "cell_type": "code",
   "execution_count": null,
   "id": "77c674d3-0d4f-4bfa-9d67-0d271eb0e75a",
   "metadata": {},
   "outputs": [],
   "source": []
  }
 ],
 "metadata": {
  "kernelspec": {
   "display_name": "Python 3 (ipykernel)",
   "language": "python",
   "name": "python3"
  },
  "language_info": {
   "codemirror_mode": {
    "name": "ipython",
    "version": 3
   },
   "file_extension": ".py",
   "mimetype": "text/x-python",
   "name": "python",
   "nbconvert_exporter": "python",
   "pygments_lexer": "ipython3",
   "version": "3.9.10"
  }
 },
 "nbformat": 4,
 "nbformat_minor": 5
}
